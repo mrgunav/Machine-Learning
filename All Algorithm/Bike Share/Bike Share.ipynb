{
 "cells": [
  {
   "cell_type": "code",
   "execution_count": 15,
   "metadata": {},
   "outputs": [],
   "source": [
    "import pandas as pd\n",
    "import numpy as np\n",
    "%matplotlib inline\n",
    "import matplotlib.pyplot as plt\n",
    "import seaborn as sns\n",
    "from sklearn.model_selection import train_test_split\n",
    "from sklearn.linear_model import LinearRegression\n",
    "from sklearn import metrics\n",
    "import datetime as dt\n",
    "from sklearn.metrics import mean_squared_error\n",
    "from sklearn.preprocessing import PolynomialFeatures"
   ]
  },
  {
   "cell_type": "code",
   "execution_count": 16,
   "metadata": {},
   "outputs": [],
   "source": [
    "data = pd.read_csv('bikeshare.csv')"
   ]
  },
  {
   "cell_type": "code",
   "execution_count": 17,
   "metadata": {},
   "outputs": [
    {
     "data": {
      "text/plain": [
       "pandas.core.series.Series"
      ]
     },
     "execution_count": 17,
     "metadata": {},
     "output_type": "execute_result"
    }
   ],
   "source": [
    "type(data['datetime'])"
   ]
  },
  {
   "cell_type": "code",
   "execution_count": 18,
   "metadata": {},
   "outputs": [],
   "source": [
    "data['datetime'] = pd.to_datetime(data['datetime'])\n",
    "data['datetime']=data['datetime'].map(dt.datetime.toordinal)"
   ]
  },
  {
   "cell_type": "code",
   "execution_count": 19,
   "metadata": {},
   "outputs": [],
   "source": [
    "x = data.drop(columns='count')"
   ]
  },
  {
   "cell_type": "code",
   "execution_count": 20,
   "metadata": {},
   "outputs": [],
   "source": [
    "y = data['count']"
   ]
  },
  {
   "cell_type": "code",
   "execution_count": 21,
   "metadata": {},
   "outputs": [],
   "source": [
    "x_train,x_test,y_train,y_test=train_test_split(x,y,test_size=0.3)"
   ]
  },
  {
   "cell_type": "code",
   "execution_count": 22,
   "metadata": {},
   "outputs": [],
   "source": [
    "#https://stackoverflow.com/questions/40217369/python-linear-regression-predict-by-date"
   ]
  },
  {
   "cell_type": "code",
   "execution_count": 23,
   "metadata": {},
   "outputs": [],
   "source": [
    "linear = LinearRegression()"
   ]
  },
  {
   "cell_type": "code",
   "execution_count": 24,
   "metadata": {},
   "outputs": [],
   "source": [
    "def mean_absolute_percentage_error(y_true, y_pred):\n",
    "    y_true, y_pred = np.array(y_true), np.array(y_pred)\n",
    "    return np.mean(np.abs((y_true - y_pred) / y_true)) * 100"
   ]
  },
  {
   "cell_type": "code",
   "execution_count": 25,
   "metadata": {},
   "outputs": [],
   "source": [
    "def model_fit(x_train,x_test,y_train,y_test,model):\n",
    "    model.fit(x_train,y_train);\n",
    "    y_train_predicated=model.predict(x_train);\n",
    "    model.fit(x_test,y_test);\n",
    "    y_test_predicated=model.predict(x_test)\n",
    "    print(\"Mean Square Error : train :  \",mean_squared_error(y_train,y_train_predicated))\n",
    "    print(\"Mean Square Error : test :  \",mean_squared_error(y_test,y_test_predicated))\n",
    "    print(\"Root Mean Square Error : train :  \",np.sqrt(mean_squared_error(y_train,y_train_predicated)))\n",
    "    print(\"Root Mean Square Error : test :  \",np.sqrt(mean_squared_error(y_test,y_test_predicated)))\n",
    "    print(\"mean_absolute_percentage_error : train : \",mean_squared_error(y_train,y_train_predicated))\n",
    "    print(\"mean_absolute_percentage_error : test : \",mean_squared_error(y_test,y_test_predicated))"
   ]
  },
  {
   "cell_type": "code",
   "execution_count": 27,
   "metadata": {},
   "outputs": [
    {
     "name": "stdout",
     "output_type": "stream",
     "text": [
      "Mean Square Error : train :   2.3517441075503136e-25\n",
      "Mean Square Error : test :   1.4973495505683147e-26\n",
      "Root Mean Square Error : train :   4.849478433347563e-13\n",
      "Root Mean Square Error : test :   1.2236623515366951e-13\n",
      "mean_absolute_percentage_error : train :  2.3517441075503136e-25\n",
      "mean_absolute_percentage_error : test :  1.4973495505683147e-26\n"
     ]
    }
   ],
   "source": [
    "model_fit(x_train,x_test,y_train,y_test,linear);"
   ]
  },
  {
   "cell_type": "code",
   "execution_count": 28,
   "metadata": {},
   "outputs": [
    {
     "name": "stdout",
     "output_type": "stream",
     "text": [
      "Mean Square Error : train :   6.371240528438217e-11\n",
      "Mean Square Error : test :   5.511983426337844e-11\n",
      "Root Mean Square Error : train :   7.982005091728655e-06\n",
      "Root Mean Square Error : test :   7.424273315508962e-06\n",
      "mean_absolute_percentage_error : train :  6.371240528438217e-11\n",
      "mean_absolute_percentage_error : test :  5.511983426337844e-11\n"
     ]
    }
   ],
   "source": [
    "poly_reg = PolynomialFeatures(degree=3)\n",
    "x_train_poly=poly_reg.fit_transform(x_train)\n",
    "x_test_poly=poly_reg.fit_transform(x_test)\n",
    "poly_linear = LinearRegression()\n",
    "model_fit(x_train_poly,x_test_poly,y_train,y_test,poly_linear);"
   ]
  },
  {
   "cell_type": "code",
   "execution_count": null,
   "metadata": {},
   "outputs": [],
   "source": []
  }
 ],
 "metadata": {
  "kernelspec": {
   "display_name": "Python 3",
   "language": "python",
   "name": "python3"
  },
  "language_info": {
   "codemirror_mode": {
    "name": "ipython",
    "version": 3
   },
   "file_extension": ".py",
   "mimetype": "text/x-python",
   "name": "python",
   "nbconvert_exporter": "python",
   "pygments_lexer": "ipython3",
   "version": "3.6.4"
  }
 },
 "nbformat": 4,
 "nbformat_minor": 2
}
